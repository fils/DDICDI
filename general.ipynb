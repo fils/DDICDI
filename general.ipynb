{
 "cells": [
  {
   "cell_type": "markdown",
   "source": [
    "# DDI CDI notes"
   ],
   "metadata": {}
  },
  {
   "cell_type": "markdown",
   "source": [
    "## DDI-CDI Represented Variable\n",
    "\n",
    "\n",
    "https://codata.org/wp-content/uploads/2020/06/DDI-CDI-Cross-Domain-Integration-General_Webinar_Intro.pptx \n",
    "\n",
    "https://codata.org/initiatives/decadal-programme2/ddi-cross-domain-integration/ddi-cross-domain-integration-review-webinar-series/using-ddi-cdi-to-describe-data-processing-and-provenance/ \n",
    "\n",
    "\n",
    "DDI-CDI Review\n",
    "\n",
    "DDI Classes \n",
    "Implementation idea 1\n",
    "Schema.org \n",
    "\n",
    "https://www.bco-dmo.org/dataset-deployment/454900 \n",
    "\n",
    "```\n",
    "{\n",
    "  \"@context\": {\n",
    "    \"@vocab\": \"https://schema.org/\"\n",
    "  },\n",
    "  \"@type\": \"Dataset\",\n",
    "  \"name\": \"Removal of organic carbon by natural bacterioplankton communities as a function of pCO2 from laboratory experiments between 2012 and 2016\",\n",
    "  ...\n",
    "  \"variableMeasured\": [\n",
    "    {\n",
    "      \"@type\": \"PropertyValue\",\n",
    "      \"name\": \"Bottle identifier\",\n",
    "      \"description\": \"The bottle number for each associated measurement.\"\n",
    "    },\n",
    "    ...\n",
    "  ]\n",
    "}\n",
    "```\n",
    "\n",
    "OR\n",
    "\n",
    "```\n",
    "{\n",
    "  \"@context\": {\n",
    "    \"@vocab\": \"https://schema.org/\"\n",
    "    \"gsn-quantity\": \"http://www.geoscienceontology.org/geo-lower/quantity#\"\n",
    "  },\n",
    "  \"@type\": \"Dataset\",\n",
    "  \"name\": \"Removal of organic carbon by natural bacterioplankton communities as a function of pCO2 from laboratory experiments between 2012 and 2016\",\n",
    "  ...\n",
    "  \"variableMeasured\": [\n",
    "    {\n",
    "      \"@type\": \"PropertyValue\",\n",
    "      \"name\": \"latitude\",\n",
    "      \"propertyID\":\"http://www.geoscienceontology.org/geo-lower/quantity#latitude\",\n",
    "      \"url\": \"https://www.sample-data-repository.org/dataset-parameter/665787\",\n",
    "      \"description\": \"Latitude where water samples were collected; north is positive.\",\n",
    "      \"unitText\": \"decimal degrees\",\n",
    "      \"minValue\": \"45.0\",\n",
    "      \"maxValue\": \"15.0\"\n",
    "    },\n",
    "}\n",
    "```\n",
    "\n",
    "The above don't express if a dataset is wide vs long though, only the columns one might find (and how would this approach multidimensional or graph/hierarchical/kv) \n",
    "Data structure components - Monday\n",
    "\n",
    "CDI Represented Variable  vs https://schema.org/variableMeasured \n",
    "\n",
    "https://schema.org/PropertyValue -> https://schema.org/valueReference -> https://schema.org/PropertyValue or https://schema.org/QualitativeValue or https://schema.org/QuantitativeValue or https://schema.org/StructuredValue or https://schema.org/Text \n",
    "Implementation idea 2\n",
    "\n",
    "Parquet https://parquet.apache.org/documentation/latest/ "
   ],
   "metadata": {}
  },
  {
   "cell_type": "code",
   "execution_count": null,
   "source": [],
   "outputs": [],
   "metadata": {}
  }
 ],
 "metadata": {
  "orig_nbformat": 4,
  "language_info": {
   "name": "python",
   "version": "3.8.10",
   "mimetype": "text/x-python",
   "codemirror_mode": {
    "name": "ipython",
    "version": 3
   },
   "pygments_lexer": "ipython3",
   "nbconvert_exporter": "python",
   "file_extension": ".py"
  },
  "kernelspec": {
   "name": "python3",
   "display_name": "Python 3.8.10 64-bit ('kglab': conda)"
  },
  "interpreter": {
   "hash": "884008db010a4da72f62f471ce341f5399c2c405d8eebc0270fe261741869d85"
  }
 },
 "nbformat": 4,
 "nbformat_minor": 2
}